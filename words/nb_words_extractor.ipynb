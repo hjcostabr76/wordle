{
 "cells": [
  {
   "cell_type": "code",
   "execution_count": 3,
   "metadata": {},
   "outputs": [
    {
     "data": {
      "text/plain": [
       "'cd'"
      ]
     },
     "execution_count": 3,
     "metadata": {},
     "output_type": "execute_result"
    }
   ],
   "source": [
    "import os\n",
    "import re\n",
    "\n",
    "fileNameBase = 'words-pt-br-utf8'\n",
    "\n",
    "# Read all words\n",
    "fileNameAll = f'./{fileNameBase}.txt'\n",
    "with open(fileNameAll) as f:\n",
    "    allWords = f.readlines()\n",
    "\n",
    "# Separate words by length\n",
    "allWordsDicts = dict()\n",
    "\n",
    "for w in allWords:\n",
    "    i += 1;\n",
    "    w = re.sub('\\W', '', w)\n",
    "    wordSize = f'00{len(w)}'[-2:] # Make sure it's 02 chars long\n",
    "    allWordsDicts[str(wordSize)] = (allWordsDicts.get(wordSize) or '') + ' ' + w\n",
    "\n",
    "# Write new files with words groupped by length    \n",
    "for wordSize, wordsOfThisSize in allWordsDicts.items():\n",
    "    fileName = f'{fileNameBase}-{wordSize}.txt'\n",
    "    words = wordsOfThisSize.split(' ')\n",
    "    fileContent = words[0] + '\\n'.join(words[1:])\n",
    "\n",
    "    f = open(fileName, 'w')\n",
    "    f.write(fileContent)\n",
    "    f.close()\n"
   ]
  }
 ],
 "metadata": {
  "interpreter": {
   "hash": "916dbcbb3f70747c44a77c7bcd40155683ae19c65e1c03b4aa3499c5328201f1"
  },
  "kernelspec": {
   "display_name": "Python 3.8.10 64-bit",
   "language": "python",
   "name": "python3"
  },
  "language_info": {
   "codemirror_mode": {
    "name": "ipython",
    "version": 3
   },
   "file_extension": ".py",
   "mimetype": "text/x-python",
   "name": "python",
   "nbconvert_exporter": "python",
   "pygments_lexer": "ipython3",
   "version": "3.8.10"
  },
  "orig_nbformat": 4
 },
 "nbformat": 4,
 "nbformat_minor": 2
}
